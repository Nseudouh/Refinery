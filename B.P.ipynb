{
 "cells": [
  {
   "cell_type": "code",
   "execution_count": 1045,
   "metadata": {
    "collapsed": true
   },
   "outputs": [],
   "source": [
    "import pandas as pd\n",
    "import numpy as np\n",
    "import seaborn as sns\n",
    "import matplotlib.pyplot as plt\n",
    "from sklearn import preprocessing\n",
    "from sklearn.preprocessing import StandardScaler\n",
    "from sklearn.preprocessing import MinMaxScaler\n",
    "from sklearn import preprocessing\n",
    "from sklearn.naive_bayes import GaussianNB\n",
    "from sklearn.linear_model import LogisticRegression\n",
    "from sklearn.metrics import accuracy_score\n",
    "from sklearn.ensemble import RandomForestClassifier\n",
    "from sklearn.model_selection import train_test_split, cross_val_score\n",
    "from sklearn.tree import DecisionTreeClassifier\n",
    "from sklearn.metrics import accuracy_score, classification_report,confusion_matrix"
   ]
  },
  {
   "cell_type": "code",
   "execution_count": 1046,
   "outputs": [
    {
     "data": {
      "text/plain": "        PV    TC      LAL    LAH-1    LAH-2     V-6    RV-4 RV-1,2,3  \\\n0   Normal   Low   Normal   Normal   Normal  Normal  Normal   Normal   \n1   Normal   Low   Normal   Normal  Normal   Normal  Normal   Medium   \n2   Normal  Low    Normal   Normal   Normal  Normal  Normal     Fail   \n3   Normal  Low    Normal  Normal    Normal  Normal  Medium   Normal   \n4   Normal  Low    Normal  Normal    Normal  Normal  Medium   Medium   \n5   Normal  Low   Normal   Normal    Normal  Normal  Medium     Fail   \n6   Normal  Low   Normal   Normal    Normal  Medium    Fail   Normal   \n7   Normal  Low   Normal   Normal   Normal   Medium    Fail   Medium   \n8  Normal   Low   Normal   Normal   Normal   Medium    Fail     Fail   \n9  Normal   Low   Normal   Normal    Medium  Medium  Normal   Normal   \n\n        Output  \n0     Low risk  \n1     Low risk  \n2  Medium risk  \n3     Low risk  \n4  Medium risk  \n5  Medium risk  \n6  Medium risk  \n7  Medium risk  \n8    High risk  \n9  Medium risk  ",
      "text/html": "<div>\n<style scoped>\n    .dataframe tbody tr th:only-of-type {\n        vertical-align: middle;\n    }\n\n    .dataframe tbody tr th {\n        vertical-align: top;\n    }\n\n    .dataframe thead th {\n        text-align: right;\n    }\n</style>\n<table border=\"1\" class=\"dataframe\">\n  <thead>\n    <tr style=\"text-align: right;\">\n      <th></th>\n      <th>PV</th>\n      <th>TC</th>\n      <th>LAL</th>\n      <th>LAH-1</th>\n      <th>LAH-2</th>\n      <th>V-6</th>\n      <th>RV-4</th>\n      <th>RV-1,2,3</th>\n      <th>Output</th>\n    </tr>\n  </thead>\n  <tbody>\n    <tr>\n      <th>0</th>\n      <td>Normal</td>\n      <td>Low</td>\n      <td>Normal</td>\n      <td>Normal</td>\n      <td>Normal</td>\n      <td>Normal</td>\n      <td>Normal</td>\n      <td>Normal</td>\n      <td>Low risk</td>\n    </tr>\n    <tr>\n      <th>1</th>\n      <td>Normal</td>\n      <td>Low</td>\n      <td>Normal</td>\n      <td>Normal</td>\n      <td>Normal</td>\n      <td>Normal</td>\n      <td>Normal</td>\n      <td>Medium</td>\n      <td>Low risk</td>\n    </tr>\n    <tr>\n      <th>2</th>\n      <td>Normal</td>\n      <td>Low</td>\n      <td>Normal</td>\n      <td>Normal</td>\n      <td>Normal</td>\n      <td>Normal</td>\n      <td>Normal</td>\n      <td>Fail</td>\n      <td>Medium risk</td>\n    </tr>\n    <tr>\n      <th>3</th>\n      <td>Normal</td>\n      <td>Low</td>\n      <td>Normal</td>\n      <td>Normal</td>\n      <td>Normal</td>\n      <td>Normal</td>\n      <td>Medium</td>\n      <td>Normal</td>\n      <td>Low risk</td>\n    </tr>\n    <tr>\n      <th>4</th>\n      <td>Normal</td>\n      <td>Low</td>\n      <td>Normal</td>\n      <td>Normal</td>\n      <td>Normal</td>\n      <td>Normal</td>\n      <td>Medium</td>\n      <td>Medium</td>\n      <td>Medium risk</td>\n    </tr>\n    <tr>\n      <th>5</th>\n      <td>Normal</td>\n      <td>Low</td>\n      <td>Normal</td>\n      <td>Normal</td>\n      <td>Normal</td>\n      <td>Normal</td>\n      <td>Medium</td>\n      <td>Fail</td>\n      <td>Medium risk</td>\n    </tr>\n    <tr>\n      <th>6</th>\n      <td>Normal</td>\n      <td>Low</td>\n      <td>Normal</td>\n      <td>Normal</td>\n      <td>Normal</td>\n      <td>Medium</td>\n      <td>Fail</td>\n      <td>Normal</td>\n      <td>Medium risk</td>\n    </tr>\n    <tr>\n      <th>7</th>\n      <td>Normal</td>\n      <td>Low</td>\n      <td>Normal</td>\n      <td>Normal</td>\n      <td>Normal</td>\n      <td>Medium</td>\n      <td>Fail</td>\n      <td>Medium</td>\n      <td>Medium risk</td>\n    </tr>\n    <tr>\n      <th>8</th>\n      <td>Normal</td>\n      <td>Low</td>\n      <td>Normal</td>\n      <td>Normal</td>\n      <td>Normal</td>\n      <td>Medium</td>\n      <td>Fail</td>\n      <td>Fail</td>\n      <td>High risk</td>\n    </tr>\n    <tr>\n      <th>9</th>\n      <td>Normal</td>\n      <td>Low</td>\n      <td>Normal</td>\n      <td>Normal</td>\n      <td>Medium</td>\n      <td>Medium</td>\n      <td>Normal</td>\n      <td>Normal</td>\n      <td>Medium risk</td>\n    </tr>\n  </tbody>\n</table>\n</div>"
     },
     "execution_count": 1046,
     "metadata": {},
     "output_type": "execute_result"
    }
   ],
   "source": [
    "data= pd.read_csv(\"B.P Texas.csv\")\n",
    "data.head(10)\n"
   ],
   "metadata": {
    "collapsed": false,
    "pycharm": {
     "name": "#%%\n"
    }
   }
  },
  {
   "cell_type": "code",
   "execution_count": 1047,
   "outputs": [
    {
     "data": {
      "text/plain": "        PV    TC   LAL   LAH-1   LAH-2     V-6    RV-4 RV-1,2,3     Output\n1922  Fail  Fail  Fail  Medium  Normal    Fail    Fail   Medium  Emergency\n1923  Fail  Fail  Fail  Medium  Normal    Fail    Fail     Fail  Emergency\n1924  Fail  Fail  Fail    Fail  Medium  Normal  Normal   Normal  Emergency\n1925  Fail  Fail  Fail    Fail  Medium  Normal  Normal   Medium  Emergency\n1926  Fail  Fail  Fail    Fail  Medium  Normal  Normal     Fail  Emergency\n1927  Fail  Fail  Fail    Fail  Medium  Normal  Medium   Normal  Emergency\n1928  Fail  Fail  Fail    Fail  Medium  Normal  Medium   Medium  Emergency\n1929  Fail  Fail  Fail    Fail  Medium  Normal  Medium     Fail  Emergency\n1930  Fail  Fail  Fail    Fail  Medium  Medium    Fail   Normal  Emergency\n1931  Fail  Fail  Fail    Fail  Medium  Medium    Fail   Medium  Emergency\n1932  Fail  Fail  Fail    Fail  Medium  Medium    Fail     Fail  Emergency\n1933  Fail  Fail  Fail    Fail    Fail  Medium  Normal   Normal  Emergency\n1934  Fail  Fail  Fail    Fail    Fail  Medium  Normal   Medium  Emergency\n1935  Fail  Fail  Fail    Fail    Fail  Medium  Normal     Fail  Emergency\n1936  Fail  Fail  Fail    Fail    Fail    Fail  Medium   Normal  Emergency\n1937  Fail  Fail  Fail    Fail    Fail    Fail  Medium   Medium  Emergency\n1938  Fail  Fail  Fail    Fail    Fail    Fail  Medium     Fail  Emergency\n1939  Fail  Fail  Fail    Fail    Fail    Fail    Fail   Normal  Emergency\n1940  Fail  Fail  Fail    Fail    Fail    Fail    Fail   Medium  Emergency\n1941  Fail  Fail  Fail    Fail    Fail    Fail    Fail     Fail  Emergency",
      "text/html": "<div>\n<style scoped>\n    .dataframe tbody tr th:only-of-type {\n        vertical-align: middle;\n    }\n\n    .dataframe tbody tr th {\n        vertical-align: top;\n    }\n\n    .dataframe thead th {\n        text-align: right;\n    }\n</style>\n<table border=\"1\" class=\"dataframe\">\n  <thead>\n    <tr style=\"text-align: right;\">\n      <th></th>\n      <th>PV</th>\n      <th>TC</th>\n      <th>LAL</th>\n      <th>LAH-1</th>\n      <th>LAH-2</th>\n      <th>V-6</th>\n      <th>RV-4</th>\n      <th>RV-1,2,3</th>\n      <th>Output</th>\n    </tr>\n  </thead>\n  <tbody>\n    <tr>\n      <th>1922</th>\n      <td>Fail</td>\n      <td>Fail</td>\n      <td>Fail</td>\n      <td>Medium</td>\n      <td>Normal</td>\n      <td>Fail</td>\n      <td>Fail</td>\n      <td>Medium</td>\n      <td>Emergency</td>\n    </tr>\n    <tr>\n      <th>1923</th>\n      <td>Fail</td>\n      <td>Fail</td>\n      <td>Fail</td>\n      <td>Medium</td>\n      <td>Normal</td>\n      <td>Fail</td>\n      <td>Fail</td>\n      <td>Fail</td>\n      <td>Emergency</td>\n    </tr>\n    <tr>\n      <th>1924</th>\n      <td>Fail</td>\n      <td>Fail</td>\n      <td>Fail</td>\n      <td>Fail</td>\n      <td>Medium</td>\n      <td>Normal</td>\n      <td>Normal</td>\n      <td>Normal</td>\n      <td>Emergency</td>\n    </tr>\n    <tr>\n      <th>1925</th>\n      <td>Fail</td>\n      <td>Fail</td>\n      <td>Fail</td>\n      <td>Fail</td>\n      <td>Medium</td>\n      <td>Normal</td>\n      <td>Normal</td>\n      <td>Medium</td>\n      <td>Emergency</td>\n    </tr>\n    <tr>\n      <th>1926</th>\n      <td>Fail</td>\n      <td>Fail</td>\n      <td>Fail</td>\n      <td>Fail</td>\n      <td>Medium</td>\n      <td>Normal</td>\n      <td>Normal</td>\n      <td>Fail</td>\n      <td>Emergency</td>\n    </tr>\n    <tr>\n      <th>1927</th>\n      <td>Fail</td>\n      <td>Fail</td>\n      <td>Fail</td>\n      <td>Fail</td>\n      <td>Medium</td>\n      <td>Normal</td>\n      <td>Medium</td>\n      <td>Normal</td>\n      <td>Emergency</td>\n    </tr>\n    <tr>\n      <th>1928</th>\n      <td>Fail</td>\n      <td>Fail</td>\n      <td>Fail</td>\n      <td>Fail</td>\n      <td>Medium</td>\n      <td>Normal</td>\n      <td>Medium</td>\n      <td>Medium</td>\n      <td>Emergency</td>\n    </tr>\n    <tr>\n      <th>1929</th>\n      <td>Fail</td>\n      <td>Fail</td>\n      <td>Fail</td>\n      <td>Fail</td>\n      <td>Medium</td>\n      <td>Normal</td>\n      <td>Medium</td>\n      <td>Fail</td>\n      <td>Emergency</td>\n    </tr>\n    <tr>\n      <th>1930</th>\n      <td>Fail</td>\n      <td>Fail</td>\n      <td>Fail</td>\n      <td>Fail</td>\n      <td>Medium</td>\n      <td>Medium</td>\n      <td>Fail</td>\n      <td>Normal</td>\n      <td>Emergency</td>\n    </tr>\n    <tr>\n      <th>1931</th>\n      <td>Fail</td>\n      <td>Fail</td>\n      <td>Fail</td>\n      <td>Fail</td>\n      <td>Medium</td>\n      <td>Medium</td>\n      <td>Fail</td>\n      <td>Medium</td>\n      <td>Emergency</td>\n    </tr>\n    <tr>\n      <th>1932</th>\n      <td>Fail</td>\n      <td>Fail</td>\n      <td>Fail</td>\n      <td>Fail</td>\n      <td>Medium</td>\n      <td>Medium</td>\n      <td>Fail</td>\n      <td>Fail</td>\n      <td>Emergency</td>\n    </tr>\n    <tr>\n      <th>1933</th>\n      <td>Fail</td>\n      <td>Fail</td>\n      <td>Fail</td>\n      <td>Fail</td>\n      <td>Fail</td>\n      <td>Medium</td>\n      <td>Normal</td>\n      <td>Normal</td>\n      <td>Emergency</td>\n    </tr>\n    <tr>\n      <th>1934</th>\n      <td>Fail</td>\n      <td>Fail</td>\n      <td>Fail</td>\n      <td>Fail</td>\n      <td>Fail</td>\n      <td>Medium</td>\n      <td>Normal</td>\n      <td>Medium</td>\n      <td>Emergency</td>\n    </tr>\n    <tr>\n      <th>1935</th>\n      <td>Fail</td>\n      <td>Fail</td>\n      <td>Fail</td>\n      <td>Fail</td>\n      <td>Fail</td>\n      <td>Medium</td>\n      <td>Normal</td>\n      <td>Fail</td>\n      <td>Emergency</td>\n    </tr>\n    <tr>\n      <th>1936</th>\n      <td>Fail</td>\n      <td>Fail</td>\n      <td>Fail</td>\n      <td>Fail</td>\n      <td>Fail</td>\n      <td>Fail</td>\n      <td>Medium</td>\n      <td>Normal</td>\n      <td>Emergency</td>\n    </tr>\n    <tr>\n      <th>1937</th>\n      <td>Fail</td>\n      <td>Fail</td>\n      <td>Fail</td>\n      <td>Fail</td>\n      <td>Fail</td>\n      <td>Fail</td>\n      <td>Medium</td>\n      <td>Medium</td>\n      <td>Emergency</td>\n    </tr>\n    <tr>\n      <th>1938</th>\n      <td>Fail</td>\n      <td>Fail</td>\n      <td>Fail</td>\n      <td>Fail</td>\n      <td>Fail</td>\n      <td>Fail</td>\n      <td>Medium</td>\n      <td>Fail</td>\n      <td>Emergency</td>\n    </tr>\n    <tr>\n      <th>1939</th>\n      <td>Fail</td>\n      <td>Fail</td>\n      <td>Fail</td>\n      <td>Fail</td>\n      <td>Fail</td>\n      <td>Fail</td>\n      <td>Fail</td>\n      <td>Normal</td>\n      <td>Emergency</td>\n    </tr>\n    <tr>\n      <th>1940</th>\n      <td>Fail</td>\n      <td>Fail</td>\n      <td>Fail</td>\n      <td>Fail</td>\n      <td>Fail</td>\n      <td>Fail</td>\n      <td>Fail</td>\n      <td>Medium</td>\n      <td>Emergency</td>\n    </tr>\n    <tr>\n      <th>1941</th>\n      <td>Fail</td>\n      <td>Fail</td>\n      <td>Fail</td>\n      <td>Fail</td>\n      <td>Fail</td>\n      <td>Fail</td>\n      <td>Fail</td>\n      <td>Fail</td>\n      <td>Emergency</td>\n    </tr>\n  </tbody>\n</table>\n</div>"
     },
     "execution_count": 1047,
     "metadata": {},
     "output_type": "execute_result"
    }
   ],
   "source": [
    "data.tail(20)"
   ],
   "metadata": {
    "collapsed": false,
    "pycharm": {
     "name": "#%%\n"
    }
   }
  },
  {
   "cell_type": "code",
   "execution_count": 1048,
   "outputs": [
    {
     "data": {
      "text/plain": "0          Low risk\n1          Low risk\n2       Medium risk\n3          Low risk\n4       Medium risk\n           ...     \n1937      Emergency\n1938      Emergency\n1939      Emergency\n1940      Emergency\n1941      Emergency\nName: Output, Length: 1942, dtype: object"
     },
     "execution_count": 1048,
     "metadata": {},
     "output_type": "execute_result"
    }
   ],
   "source": [
    "Output= data.Output\n",
    "Output"
   ],
   "metadata": {
    "collapsed": false,
    "pycharm": {
     "name": "#%%\n"
    }
   }
  },
  {
   "cell_type": "code",
   "execution_count": 1049,
   "outputs": [
    {
     "data": {
      "text/plain": "PV          object\nTC          object\nLAL         object\nLAH-1       object\nLAH-2       object\nV-6         object\nRV-4        object\nRV-1,2,3    object\nOutput      object\ndtype: object"
     },
     "execution_count": 1049,
     "metadata": {},
     "output_type": "execute_result"
    }
   ],
   "source": [
    "data. dtypes"
   ],
   "metadata": {
    "collapsed": false,
    "pycharm": {
     "name": "#%%\n"
    }
   }
  },
  {
   "cell_type": "code",
   "execution_count": 1050,
   "outputs": [
    {
     "data": {
      "text/plain": "PV          0\nTC          0\nLAL         0\nLAH-1       0\nLAH-2       0\nV-6         0\nRV-4        0\nRV-1,2,3    0\nOutput      0\ndtype: int64"
     },
     "execution_count": 1050,
     "metadata": {},
     "output_type": "execute_result"
    }
   ],
   "source": [
    "#dealing with missing values\n",
    "data.dropna(inplace= True)\n",
    "data.isnull().sum()"
   ],
   "metadata": {
    "collapsed": false,
    "pycharm": {
     "name": "#%%\n"
    }
   }
  },
  {
   "cell_type": "code",
   "execution_count": 1051,
   "outputs": [
    {
     "data": {
      "text/plain": "        PV    TC      LAL    LAH-1    LAH-2     V-6    RV-4 RV-1,2,3  \\\n0   Normal   Low   Normal   Normal   Normal  Normal  Normal   Normal   \n1   Normal   Low   Normal   Normal  Normal   Normal  Normal   Medium   \n2   Normal  Low    Normal   Normal   Normal  Normal  Normal     Fail   \n3   Normal  Low    Normal  Normal    Normal  Normal  Medium   Normal   \n4   Normal  Low    Normal  Normal    Normal  Normal  Medium   Medium   \n5   Normal  Low   Normal   Normal    Normal  Normal  Medium     Fail   \n6   Normal  Low   Normal   Normal    Normal  Medium    Fail   Normal   \n7   Normal  Low   Normal   Normal   Normal   Medium    Fail   Medium   \n8  Normal   Low   Normal   Normal   Normal   Medium    Fail     Fail   \n9  Normal   Low   Normal   Normal    Medium  Medium  Normal   Normal   \n\n        Output  \n0     Low risk  \n1     Low risk  \n2  Medium risk  \n3     Low risk  \n4  Medium risk  \n5  Medium risk  \n6  Medium risk  \n7  Medium risk  \n8    High risk  \n9  Medium risk  ",
      "text/html": "<div>\n<style scoped>\n    .dataframe tbody tr th:only-of-type {\n        vertical-align: middle;\n    }\n\n    .dataframe tbody tr th {\n        vertical-align: top;\n    }\n\n    .dataframe thead th {\n        text-align: right;\n    }\n</style>\n<table border=\"1\" class=\"dataframe\">\n  <thead>\n    <tr style=\"text-align: right;\">\n      <th></th>\n      <th>PV</th>\n      <th>TC</th>\n      <th>LAL</th>\n      <th>LAH-1</th>\n      <th>LAH-2</th>\n      <th>V-6</th>\n      <th>RV-4</th>\n      <th>RV-1,2,3</th>\n      <th>Output</th>\n    </tr>\n  </thead>\n  <tbody>\n    <tr>\n      <th>0</th>\n      <td>Normal</td>\n      <td>Low</td>\n      <td>Normal</td>\n      <td>Normal</td>\n      <td>Normal</td>\n      <td>Normal</td>\n      <td>Normal</td>\n      <td>Normal</td>\n      <td>Low risk</td>\n    </tr>\n    <tr>\n      <th>1</th>\n      <td>Normal</td>\n      <td>Low</td>\n      <td>Normal</td>\n      <td>Normal</td>\n      <td>Normal</td>\n      <td>Normal</td>\n      <td>Normal</td>\n      <td>Medium</td>\n      <td>Low risk</td>\n    </tr>\n    <tr>\n      <th>2</th>\n      <td>Normal</td>\n      <td>Low</td>\n      <td>Normal</td>\n      <td>Normal</td>\n      <td>Normal</td>\n      <td>Normal</td>\n      <td>Normal</td>\n      <td>Fail</td>\n      <td>Medium risk</td>\n    </tr>\n    <tr>\n      <th>3</th>\n      <td>Normal</td>\n      <td>Low</td>\n      <td>Normal</td>\n      <td>Normal</td>\n      <td>Normal</td>\n      <td>Normal</td>\n      <td>Medium</td>\n      <td>Normal</td>\n      <td>Low risk</td>\n    </tr>\n    <tr>\n      <th>4</th>\n      <td>Normal</td>\n      <td>Low</td>\n      <td>Normal</td>\n      <td>Normal</td>\n      <td>Normal</td>\n      <td>Normal</td>\n      <td>Medium</td>\n      <td>Medium</td>\n      <td>Medium risk</td>\n    </tr>\n    <tr>\n      <th>5</th>\n      <td>Normal</td>\n      <td>Low</td>\n      <td>Normal</td>\n      <td>Normal</td>\n      <td>Normal</td>\n      <td>Normal</td>\n      <td>Medium</td>\n      <td>Fail</td>\n      <td>Medium risk</td>\n    </tr>\n    <tr>\n      <th>6</th>\n      <td>Normal</td>\n      <td>Low</td>\n      <td>Normal</td>\n      <td>Normal</td>\n      <td>Normal</td>\n      <td>Medium</td>\n      <td>Fail</td>\n      <td>Normal</td>\n      <td>Medium risk</td>\n    </tr>\n    <tr>\n      <th>7</th>\n      <td>Normal</td>\n      <td>Low</td>\n      <td>Normal</td>\n      <td>Normal</td>\n      <td>Normal</td>\n      <td>Medium</td>\n      <td>Fail</td>\n      <td>Medium</td>\n      <td>Medium risk</td>\n    </tr>\n    <tr>\n      <th>8</th>\n      <td>Normal</td>\n      <td>Low</td>\n      <td>Normal</td>\n      <td>Normal</td>\n      <td>Normal</td>\n      <td>Medium</td>\n      <td>Fail</td>\n      <td>Fail</td>\n      <td>High risk</td>\n    </tr>\n    <tr>\n      <th>9</th>\n      <td>Normal</td>\n      <td>Low</td>\n      <td>Normal</td>\n      <td>Normal</td>\n      <td>Medium</td>\n      <td>Medium</td>\n      <td>Normal</td>\n      <td>Normal</td>\n      <td>Medium risk</td>\n    </tr>\n  </tbody>\n</table>\n</div>"
     },
     "execution_count": 1051,
     "metadata": {},
     "output_type": "execute_result"
    }
   ],
   "source": [
    "data.head(10)\n",
    "\n"
   ],
   "metadata": {
    "collapsed": false,
    "pycharm": {
     "name": "#%%\n"
    }
   }
  },
  {
   "cell_type": "code",
   "execution_count": 1052,
   "outputs": [
    {
     "name": "stdout",
     "output_type": "stream",
     "text": [
      "<class 'pandas.core.frame.DataFrame'>\n",
      "Int64Index: 1940 entries, 0 to 1941\n",
      "Data columns (total 9 columns):\n",
      " #   Column    Non-Null Count  Dtype \n",
      "---  ------    --------------  ----- \n",
      " 0   PV        1940 non-null   object\n",
      " 1   TC        1940 non-null   object\n",
      " 2   LAL       1940 non-null   object\n",
      " 3   LAH-1     1940 non-null   object\n",
      " 4   LAH-2     1940 non-null   object\n",
      " 5   V-6       1940 non-null   object\n",
      " 6   RV-4      1940 non-null   object\n",
      " 7   RV-1,2,3  1940 non-null   object\n",
      " 8   Output    1940 non-null   object\n",
      "dtypes: object(9)\n",
      "memory usage: 151.6+ KB\n"
     ]
    }
   ],
   "source": [
    "data.info()"
   ],
   "metadata": {
    "collapsed": false,
    "pycharm": {
     "name": "#%%\n"
    }
   }
  },
  {
   "cell_type": "code",
   "execution_count": 1053,
   "outputs": [
    {
     "data": {
      "text/plain": "PV          1940\nTC          1940\nLAL         1940\nLAH-1       1940\nLAH-2       1940\nV-6         1940\nRV-4        1940\nRV-1,2,3    1940\nOutput      1940\ndtype: int64"
     },
     "execution_count": 1053,
     "metadata": {},
     "output_type": "execute_result"
    }
   ],
   "source": [
    "data.count()"
   ],
   "metadata": {
    "collapsed": false,
    "pycharm": {
     "name": "#%%\n"
    }
   }
  },
  {
   "cell_type": "code",
   "execution_count": 1054,
   "outputs": [
    {
     "data": {
      "text/plain": "<Figure size 1800x720 with 2 Axes>",
      "image/png": "[encoded data removed]"
     },
     "metadata": {
      "needs_background": "light"
     },
     "output_type": "display_data"
    }
   ],
   "source": [
    "plt.figure(figsize=(25, 10))\n",
    "\n",
    "corr = data.apply(lambda x: pd.factorize(x)[0]).corr()\n",
    "\n",
    "mask = np.triu(np.ones_like(corr, dtype=bool))\n",
    "\n",
    "ax = sns.heatmap(corr, mask=mask, xticklabels=corr.columns, yticklabels=corr.columns, annot=True, linewidths=.2, cmap='coolwarm', vmin=-1, vmax=1)\n"
   ],
   "metadata": {
    "collapsed": false,
    "pycharm": {
     "name": "#%%\n"
    }
   }
  },
  {
   "cell_type": "code",
   "execution_count": 1055,
   "outputs": [
    {
     "data": {
      "text/plain": "        PV    TC      LAL    LAH-1    LAH-2     V-6    RV-4 RV-1,2,3  \\\n0   Normal   Low   Normal   Normal   Normal  Normal  Normal   Normal   \n1   Normal   Low   Normal   Normal  Normal   Normal  Normal   Medium   \n2   Normal  Low    Normal   Normal   Normal  Normal  Normal     Fail   \n3   Normal  Low    Normal  Normal    Normal  Normal  Medium   Normal   \n4   Normal  Low    Normal  Normal    Normal  Normal  Medium   Medium   \n5   Normal  Low   Normal   Normal    Normal  Normal  Medium     Fail   \n6   Normal  Low   Normal   Normal    Normal  Medium    Fail   Normal   \n7   Normal  Low   Normal   Normal   Normal   Medium    Fail   Medium   \n8  Normal   Low   Normal   Normal   Normal   Medium    Fail     Fail   \n9  Normal   Low   Normal   Normal    Medium  Medium  Normal   Normal   \n\n        Output  \n0     Low risk  \n1     Low risk  \n2  Medium risk  \n3     Low risk  \n4  Medium risk  \n5  Medium risk  \n6  Medium risk  \n7  Medium risk  \n8    High risk  \n9  Medium risk  ",
      "text/html": "<div>\n<style scoped>\n    .dataframe tbody tr th:only-of-type {\n        vertical-align: middle;\n    }\n\n    .dataframe tbody tr th {\n        vertical-align: top;\n    }\n\n    .dataframe thead th {\n        text-align: right;\n    }\n</style>\n<table border=\"1\" class=\"dataframe\">\n  <thead>\n    <tr style=\"text-align: right;\">\n      <th></th>\n      <th>PV</th>\n      <th>TC</th>\n      <th>LAL</th>\n      <th>LAH-1</th>\n      <th>LAH-2</th>\n      <th>V-6</th>\n      <th>RV-4</th>\n      <th>RV-1,2,3</th>\n      <th>Output</th>\n    </tr>\n  </thead>\n  <tbody>\n    <tr>\n      <th>0</th>\n      <td>Normal</td>\n      <td>Low</td>\n      <td>Normal</td>\n      <td>Normal</td>\n      <td>Normal</td>\n      <td>Normal</td>\n      <td>Normal</td>\n      <td>Normal</td>\n      <td>Low risk</td>\n    </tr>\n    <tr>\n      <th>1</th>\n      <td>Normal</td>\n      <td>Low</td>\n      <td>Normal</td>\n      <td>Normal</td>\n      <td>Normal</td>\n      <td>Normal</td>\n      <td>Normal</td>\n      <td>Medium</td>\n      <td>Low risk</td>\n    </tr>\n    <tr>\n      <th>2</th>\n      <td>Normal</td>\n      <td>Low</td>\n      <td>Normal</td>\n      <td>Normal</td>\n      <td>Normal</td>\n      <td>Normal</td>\n      <td>Normal</td>\n      <td>Fail</td>\n      <td>Medium risk</td>\n    </tr>\n    <tr>\n      <th>3</th>\n      <td>Normal</td>\n      <td>Low</td>\n      <td>Normal</td>\n      <td>Normal</td>\n      <td>Normal</td>\n      <td>Normal</td>\n      <td>Medium</td>\n      <td>Normal</td>\n      <td>Low risk</td>\n    </tr>\n    <tr>\n      <th>4</th>\n      <td>Normal</td>\n      <td>Low</td>\n      <td>Normal</td>\n      <td>Normal</td>\n      <td>Normal</td>\n      <td>Normal</td>\n      <td>Medium</td>\n      <td>Medium</td>\n      <td>Medium risk</td>\n    </tr>\n    <tr>\n      <th>5</th>\n      <td>Normal</td>\n      <td>Low</td>\n      <td>Normal</td>\n      <td>Normal</td>\n      <td>Normal</td>\n      <td>Normal</td>\n      <td>Medium</td>\n      <td>Fail</td>\n      <td>Medium risk</td>\n    </tr>\n    <tr>\n      <th>6</th>\n      <td>Normal</td>\n      <td>Low</td>\n      <td>Normal</td>\n      <td>Normal</td>\n      <td>Normal</td>\n      <td>Medium</td>\n      <td>Fail</td>\n      <td>Normal</td>\n      <td>Medium risk</td>\n    </tr>\n    <tr>\n      <th>7</th>\n      <td>Normal</td>\n      <td>Low</td>\n      <td>Normal</td>\n      <td>Normal</td>\n      <td>Normal</td>\n      <td>Medium</td>\n      <td>Fail</td>\n      <td>Medium</td>\n      <td>Medium risk</td>\n    </tr>\n    <tr>\n      <th>8</th>\n      <td>Normal</td>\n      <td>Low</td>\n      <td>Normal</td>\n      <td>Normal</td>\n      <td>Normal</td>\n      <td>Medium</td>\n      <td>Fail</td>\n      <td>Fail</td>\n      <td>High risk</td>\n    </tr>\n    <tr>\n      <th>9</th>\n      <td>Normal</td>\n      <td>Low</td>\n      <td>Normal</td>\n      <td>Normal</td>\n      <td>Medium</td>\n      <td>Medium</td>\n      <td>Normal</td>\n      <td>Normal</td>\n      <td>Medium risk</td>\n    </tr>\n  </tbody>\n</table>\n</div>"
     },
     "execution_count": 1055,
     "metadata": {},
     "output_type": "execute_result"
    }
   ],
   "source": [
    "data.head(10)"
   ],
   "metadata": {
    "collapsed": false,
    "pycharm": {
     "name": "#%%\n"
    }
   }
  },
  {
   "cell_type": "code",
   "execution_count": 1056,
   "outputs": [
    {
     "data": {
      "text/plain": "0          Low risk\n1          Low risk\n2       Medium risk\n3          Low risk\n4       Medium risk\n           ...     \n1937      Emergency\n1938      Emergency\n1939      Emergency\n1940      Emergency\n1941      Emergency\nName: Output, Length: 1940, dtype: object"
     },
     "execution_count": 1056,
     "metadata": {},
     "output_type": "execute_result"
    }
   ],
   "source": [
    "Output= data.Output\n",
    "Output\n"
   ],
   "metadata": {
    "collapsed": false,
    "pycharm": {
     "name": "#%%\n"
    }
   }
  },
  {
   "cell_type": "code",
   "execution_count": 1057,
   "outputs": [],
   "source": [
    "from sklearn import preprocessing\n",
    "label_encoder = preprocessing.LabelEncoder()\n",
    "data['Output']= label_encoder.fit_transform(data['Output'])"
   ],
   "metadata": {
    "collapsed": false,
    "pycharm": {
     "name": "#%%\n"
    }
   }
  },
  {
   "cell_type": "code",
   "execution_count": 1058,
   "outputs": [
    {
     "data": {
      "text/plain": "   Output  PV_Fail  PV_Medium  PV_Normal  PV_Normal   TC_Fail  TC_Low  \\\n0       3        0          0          1           0        0       1   \n1       3        0          0          1           0        0       1   \n2       5        0          0          1           0        0       0   \n3       3        0          0          1           0        0       0   \n4       5        0          0          1           0        0       0   \n5       5        0          0          1           0        0       0   \n6       5        0          0          1           0        0       0   \n7       5        0          0          1           0        0       0   \n8       2        0          0          0           1        0       0   \n9       5        0          0          0           1        0       0   \n\n   TC_Low   TC_Medium  LAL_Fail  ...  V-6_Normal  V-6_Normal   RV-4_Fail  \\\n0        0          0         0  ...           1            0          0   \n1        0          0         0  ...           1            0          0   \n2        1          0         0  ...           1            0          0   \n3        1          0         0  ...           1            0          0   \n4        1          0         0  ...           1            0          0   \n5        1          0         0  ...           1            0          0   \n6        1          0         0  ...           0            0          1   \n7        1          0         0  ...           0            0          1   \n8        1          0         0  ...           0            0          1   \n9        1          0         0  ...           0            0          0   \n\n   RV-4_Medium  RV-4_Normal  RV-4_Normal   RV-1,2,3_Fail  RV-1,2,3_Medium  \\\n0            0            1             0              0                0   \n1            0            1             0              0                1   \n2            0            1             0              1                0   \n3            1            0             0              0                0   \n4            1            0             0              0                1   \n5            1            0             0              1                0   \n6            0            0             0              0                0   \n7            0            0             0              0                1   \n8            0            0             0              1                0   \n9            0            1             0              0                0   \n\n   RV-1,2,3_Normal  RV-1,2,3_Normal   \n0                1                 0  \n1                0                 0  \n2                0                 0  \n3                1                 0  \n4                0                 0  \n5                0                 0  \n6                1                 0  \n7                0                 0  \n8                0                 0  \n9                1                 0  \n\n[10 rows x 33 columns]",
      "text/html": "<div>\n<style scoped>\n    .dataframe tbody tr th:only-of-type {\n        vertical-align: middle;\n    }\n\n    .dataframe tbody tr th {\n        vertical-align: top;\n    }\n\n    .dataframe thead th {\n        text-align: right;\n    }\n</style>\n<table border=\"1\" class=\"dataframe\">\n  <thead>\n    <tr style=\"text-align: right;\">\n      <th></th>\n      <th>Output</th>\n      <th>PV_Fail</th>\n      <th>PV_Medium</th>\n      <th>PV_Normal</th>\n      <th>PV_Normal</th>\n      <th>TC_Fail</th>\n      <th>TC_Low</th>\n      <th>TC_Low</th>\n      <th>TC_Medium</th>\n      <th>LAL_Fail</th>\n      <th>...</th>\n      <th>V-6_Normal</th>\n      <th>V-6_Normal</th>\n      <th>RV-4_Fail</th>\n      <th>RV-4_Medium</th>\n      <th>RV-4_Normal</th>\n      <th>RV-4_Normal</th>\n      <th>RV-1,2,3_Fail</th>\n      <th>RV-1,2,3_Medium</th>\n      <th>RV-1,2,3_Normal</th>\n      <th>RV-1,2,3_Normal</th>\n    </tr>\n  </thead>\n  <tbody>\n    <tr>\n      <th>0</th>\n      <td>3</td>\n      <td>0</td>\n      <td>0</td>\n      <td>1</td>\n      <td>0</td>\n      <td>0</td>\n      <td>1</td>\n      <td>0</td>\n      <td>0</td>\n      <td>0</td>\n      <td>...</td>\n      <td>1</td>\n      <td>0</td>\n      <td>0</td>\n      <td>0</td>\n      <td>1</td>\n      <td>0</td>\n      <td>0</td>\n      <td>0</td>\n      <td>1</td>\n      <td>0</td>\n    </tr>\n    <tr>\n      <th>1</th>\n      <td>3</td>\n      <td>0</td>\n      <td>0</td>\n      <td>1</td>\n      <td>0</td>\n      <td>0</td>\n      <td>1</td>\n      <td>0</td>\n      <td>0</td>\n      <td>0</td>\n      <td>...</td>\n      <td>1</td>\n      <td>0</td>\n      <td>0</td>\n      <td>0</td>\n      <td>1</td>\n      <td>0</td>\n      <td>0</td>\n      <td>1</td>\n      <td>0</td>\n      <td>0</td>\n    </tr>\n    <tr>\n      <th>2</th>\n      <td>5</td>\n      <td>0</td>\n      <td>0</td>\n      <td>1</td>\n      <td>0</td>\n      <td>0</td>\n      <td>0</td>\n      <td>1</td>\n      <td>0</td>\n      <td>0</td>\n      <td>...</td>\n      <td>1</td>\n      <td>0</td>\n      <td>0</td>\n      <td>0</td>\n      <td>1</td>\n      <td>0</td>\n      <td>1</td>\n      <td>0</td>\n      <td>0</td>\n      <td>0</td>\n    </tr>\n    <tr>\n      <th>3</th>\n      <td>3</td>\n      <td>0</td>\n      <td>0</td>\n      <td>1</td>\n      <td>0</td>\n      <td>0</td>\n      <td>0</td>\n      <td>1</td>\n      <td>0</td>\n      <td>0</td>\n      <td>...</td>\n      <td>1</td>\n      <td>0</td>\n      <td>0</td>\n      <td>1</td>\n      <td>0</td>\n      <td>0</td>\n      <td>0</td>\n      <td>0</td>\n      <td>1</td>\n      <td>0</td>\n    </tr>\n    <tr>\n      <th>4</th>\n      <td>5</td>\n      <td>0</td>\n      <td>0</td>\n      <td>1</td>\n      <td>0</td>\n      <td>0</td>\n      <td>0</td>\n      <td>1</td>\n      <td>0</td>\n      <td>0</td>\n      <td>...</td>\n      <td>1</td>\n      <td>0</td>\n      <td>0</td>\n      <td>1</td>\n      <td>0</td>\n      <td>0</td>\n      <td>0</td>\n      <td>1</td>\n      <td>0</td>\n      <td>0</td>\n    </tr>\n    <tr>\n      <th>5</th>\n      <td>5</td>\n      <td>0</td>\n      <td>0</td>\n      <td>1</td>\n      <td>0</td>\n      <td>0</td>\n      <td>0</td>\n      <td>1</td>\n      <td>0</td>\n      <td>0</td>\n      <td>...</td>\n      <td>1</td>\n      <td>0</td>\n      <td>0</td>\n      <td>1</td>\n      <td>0</td>\n      <td>0</td>\n      <td>1</td>\n      <td>0</td>\n      <td>0</td>\n      <td>0</td>\n    </tr>\n    <tr>\n      <th>6</th>\n      <td>5</td>\n      <td>0</td>\n      <td>0</td>\n      <td>1</td>\n      <td>0</td>\n      <td>0</td>\n      <td>0</td>\n      <td>1</td>\n      <td>0</td>\n      <td>0</td>\n      <td>...</td>\n      <td>0</td>\n      <td>0</td>\n      <td>1</td>\n      <td>0</td>\n      <td>0</td>\n      <td>0</td>\n      <td>0</td>\n      <td>0</td>\n      <td>1</td>\n      <td>0</td>\n    </tr>\n    <tr>\n      <th>7</th>\n      <td>5</td>\n      <td>0</td>\n      <td>0</td>\n      <td>1</td>\n      <td>0</td>\n      <td>0</td>\n      <td>0</td>\n      <td>1</td>\n      <td>0</td>\n      <td>0</td>\n      <td>...</td>\n      <td>0</td>\n      <td>0</td>\n      <td>1</td>\n      <td>0</td>\n      <td>0</td>\n      <td>0</td>\n      <td>0</td>\n      <td>1</td>\n      <td>0</td>\n      <td>0</td>\n    </tr>\n    <tr>\n      <th>8</th>\n      <td>2</td>\n      <td>0</td>\n      <td>0</td>\n      <td>0</td>\n      <td>1</td>\n      <td>0</td>\n      <td>0</td>\n      <td>1</td>\n      <td>0</td>\n      <td>0</td>\n      <td>...</td>\n      <td>0</td>\n      <td>0</td>\n      <td>1</td>\n      <td>0</td>\n      <td>0</td>\n      <td>0</td>\n      <td>1</td>\n      <td>0</td>\n      <td>0</td>\n      <td>0</td>\n    </tr>\n    <tr>\n      <th>9</th>\n      <td>5</td>\n      <td>0</td>\n      <td>0</td>\n      <td>0</td>\n      <td>1</td>\n      <td>0</td>\n      <td>0</td>\n      <td>1</td>\n      <td>0</td>\n      <td>0</td>\n      <td>...</td>\n      <td>0</td>\n      <td>0</td>\n      <td>0</td>\n      <td>0</td>\n      <td>1</td>\n      <td>0</td>\n      <td>0</td>\n      <td>0</td>\n      <td>1</td>\n      <td>0</td>\n    </tr>\n  </tbody>\n</table>\n<p>10 rows × 33 columns</p>\n</div>"
     },
     "execution_count": 1058,
     "metadata": {},
     "output_type": "execute_result"
    }
   ],
   "source": [
    "categorical_variable = ['PV','TC','LAL','LAH-1','LAH-2','V-6','RV-4','RV-1,2,3']\n",
    "data= pd.get_dummies(data, columns=categorical_variable)\n",
    "data.head(10)"
   ],
   "metadata": {
    "collapsed": false,
    "pycharm": {
     "name": "#%%\n"
    }
   }
  },
  {
   "cell_type": "code",
   "execution_count": 1059,
   "outputs": [
    {
     "data": {
      "text/plain": "      Output  PV_Fail  PV_Medium  PV_Normal  PV_Normal   TC_Fail  TC_Low  \\\n1932       1        1          0          0           0        1       0   \n1933       1        1          0          0           0        1       0   \n1934       1        1          0          0           0        1       0   \n1935       1        1          0          0           0        1       0   \n1936       1        1          0          0           0        1       0   \n1937       1        1          0          0           0        1       0   \n1938       1        1          0          0           0        1       0   \n1939       1        1          0          0           0        1       0   \n1940       1        1          0          0           0        1       0   \n1941       1        1          0          0           0        1       0   \n\n      TC_Low   TC_Medium  LAL_Fail  ...  V-6_Normal  V-6_Normal   RV-4_Fail  \\\n1932        0          0         1  ...           0            0          1   \n1933        0          0         1  ...           0            0          0   \n1934        0          0         1  ...           0            0          0   \n1935        0          0         1  ...           0            0          0   \n1936        0          0         1  ...           0            0          0   \n1937        0          0         1  ...           0            0          0   \n1938        0          0         1  ...           0            0          0   \n1939        0          0         1  ...           0            0          1   \n1940        0          0         1  ...           0            0          1   \n1941        0          0         1  ...           0            0          1   \n\n      RV-4_Medium  RV-4_Normal  RV-4_Normal   RV-1,2,3_Fail  RV-1,2,3_Medium  \\\n1932            0            0             0              1                0   \n1933            0            1             0              0                0   \n1934            0            1             0              0                1   \n1935            0            1             0              1                0   \n1936            1            0             0              0                0   \n1937            1            0             0              0                1   \n1938            1            0             0              1                0   \n1939            0            0             0              0                0   \n1940            0            0             0              0                1   \n1941            0            0             0              1                0   \n\n      RV-1,2,3_Normal  RV-1,2,3_Normal   \n1932                0                 0  \n1933                1                 0  \n1934                0                 0  \n1935                0                 0  \n1936                1                 0  \n1937                0                 0  \n1938                0                 0  \n1939                1                 0  \n1940                0                 0  \n1941                0                 0  \n\n[10 rows x 33 columns]",
      "text/html": "<div>\n<style scoped>\n    .dataframe tbody tr th:only-of-type {\n        vertical-align: middle;\n    }\n\n    .dataframe tbody tr th {\n        vertical-align: top;\n    }\n\n    .dataframe thead th {\n        text-align: right;\n    }\n</style>\n<table border=\"1\" class=\"dataframe\">\n  <thead>\n    <tr style=\"text-align: right;\">\n      <th></th>\n      <th>Output</th>\n      <th>PV_Fail</th>\n      <th>PV_Medium</th>\n      <th>PV_Normal</th>\n      <th>PV_Normal</th>\n      <th>TC_Fail</th>\n      <th>TC_Low</th>\n      <th>TC_Low</th>\n      <th>TC_Medium</th>\n      <th>LAL_Fail</th>\n      <th>...</th>\n      <th>V-6_Normal</th>\n      <th>V-6_Normal</th>\n      <th>RV-4_Fail</th>\n      <th>RV-4_Medium</th>\n      <th>RV-4_Normal</th>\n      <th>RV-4_Normal</th>\n      <th>RV-1,2,3_Fail</th>\n      <th>RV-1,2,3_Medium</th>\n      <th>RV-1,2,3_Normal</th>\n      <th>RV-1,2,3_Normal</th>\n    </tr>\n  </thead>\n  <tbody>\n    <tr>\n      <th>1932</th>\n      <td>1</td>\n      <td>1</td>\n      <td>0</td>\n      <td>0</td>\n      <td>0</td>\n      <td>1</td>\n      <td>0</td>\n      <td>0</td>\n      <td>0</td>\n      <td>1</td>\n      <td>...</td>\n      <td>0</td>\n      <td>0</td>\n      <td>1</td>\n      <td>0</td>\n      <td>0</td>\n      <td>0</td>\n      <td>1</td>\n      <td>0</td>\n      <td>0</td>\n      <td>0</td>\n    </tr>\n    <tr>\n      <th>1933</th>\n      <td>1</td>\n      <td>1</td>\n      <td>0</td>\n      <td>0</td>\n      <td>0</td>\n      <td>1</td>\n      <td>0</td>\n      <td>0</td>\n      <td>0</td>\n      <td>1</td>\n      <td>...</td>\n      <td>0</td>\n      <td>0</td>\n      <td>0</td>\n      <td>0</td>\n      <td>1</td>\n      <td>0</td>\n      <td>0</td>\n      <td>0</td>\n      <td>1</td>\n      <td>0</td>\n    </tr>\n    <tr>\n      <th>1934</th>\n      <td>1</td>\n      <td>1</td>\n      <td>0</td>\n      <td>0</td>\n      <td>0</td>\n      <td>1</td>\n      <td>0</td>\n      <td>0</td>\n      <td>0</td>\n      <td>1</td>\n      <td>...</td>\n      <td>0</td>\n      <td>0</td>\n      <td>0</td>\n      <td>0</td>\n      <td>1</td>\n      <td>0</td>\n      <td>0</td>\n      <td>1</td>\n      <td>0</td>\n      <td>0</td>\n    </tr>\n    <tr>\n      <th>1935</th>\n      <td>1</td>\n      <td>1</td>\n      <td>0</td>\n      <td>0</td>\n      <td>0</td>\n      <td>1</td>\n      <td>0</td>\n      <td>0</td>\n      <td>0</td>\n      <td>1</td>\n      <td>...</td>\n      <td>0</td>\n      <td>0</td>\n      <td>0</td>\n      <td>0</td>\n      <td>1</td>\n      <td>0</td>\n      <td>1</td>\n      <td>0</td>\n      <td>0</td>\n      <td>0</td>\n    </tr>\n    <tr>\n      <th>1936</th>\n      <td>1</td>\n      <td>1</td>\n      <td>0</td>\n      <td>0</td>\n      <td>0</td>\n      <td>1</td>\n      <td>0</td>\n      <td>0</td>\n      <td>0</td>\n      <td>1</td>\n      <td>...</td>\n      <td>0</td>\n      <td>0</td>\n      <td>0</td>\n      <td>1</td>\n      <td>0</td>\n      <td>0</td>\n      <td>0</td>\n      <td>0</td>\n      <td>1</td>\n      <td>0</td>\n    </tr>\n    <tr>\n      <th>1937</th>\n      <td>1</td>\n      <td>1</td>\n      <td>0</td>\n      <td>0</td>\n      <td>0</td>\n      <td>1</td>\n      <td>0</td>\n      <td>0</td>\n      <td>0</td>\n      <td>1</td>\n      <td>...</td>\n      <td>0</td>\n      <td>0</td>\n      <td>0</td>\n      <td>1</td>\n      <td>0</td>\n      <td>0</td>\n      <td>0</td>\n      <td>1</td>\n      <td>0</td>\n      <td>0</td>\n    </tr>\n    <tr>\n      <th>1938</th>\n      <td>1</td>\n      <td>1</td>\n      <td>0</td>\n      <td>0</td>\n      <td>0</td>\n      <td>1</td>\n      <td>0</td>\n      <td>0</td>\n      <td>0</td>\n      <td>1</td>\n      <td>...</td>\n      <td>0</td>\n      <td>0</td>\n      <td>0</td>\n      <td>1</td>\n      <td>0</td>\n      <td>0</td>\n      <td>1</td>\n      <td>0</td>\n      <td>0</td>\n      <td>0</td>\n    </tr>\n    <tr>\n      <th>1939</th>\n      <td>1</td>\n      <td>1</td>\n      <td>0</td>\n      <td>0</td>\n      <td>0</td>\n      <td>1</td>\n      <td>0</td>\n      <td>0</td>\n      <td>0</td>\n      <td>1</td>\n      <td>...</td>\n      <td>0</td>\n      <td>0</td>\n      <td>1</td>\n      <td>0</td>\n      <td>0</td>\n      <td>0</td>\n      <td>0</td>\n      <td>0</td>\n      <td>1</td>\n      <td>0</td>\n    </tr>\n    <tr>\n      <th>1940</th>\n      <td>1</td>\n      <td>1</td>\n      <td>0</td>\n      <td>0</td>\n      <td>0</td>\n      <td>1</td>\n      <td>0</td>\n      <td>0</td>\n      <td>0</td>\n      <td>1</td>\n      <td>...</td>\n      <td>0</td>\n      <td>0</td>\n      <td>1</td>\n      <td>0</td>\n      <td>0</td>\n      <td>0</td>\n      <td>0</td>\n      <td>1</td>\n      <td>0</td>\n      <td>0</td>\n    </tr>\n    <tr>\n      <th>1941</th>\n      <td>1</td>\n      <td>1</td>\n      <td>0</td>\n      <td>0</td>\n      <td>0</td>\n      <td>1</td>\n      <td>0</td>\n      <td>0</td>\n      <td>0</td>\n      <td>1</td>\n      <td>...</td>\n      <td>0</td>\n      <td>0</td>\n      <td>1</td>\n      <td>0</td>\n      <td>0</td>\n      <td>0</td>\n      <td>1</td>\n      <td>0</td>\n      <td>0</td>\n      <td>0</td>\n    </tr>\n  </tbody>\n</table>\n<p>10 rows × 33 columns</p>\n</div>"
     },
     "execution_count": 1059,
     "metadata": {},
     "output_type": "execute_result"
    }
   ],
   "source": [
    "data.tail(10)"
   ],
   "metadata": {
    "collapsed": false,
    "pycharm": {
     "name": "#%%\n"
    }
   }
  },
  {
   "cell_type": "code",
   "execution_count": 1060,
   "outputs": [],
   "source": [
    "#Extracting the independent from the target variable and converting into a numpy arrat\n",
    "\n",
    "x= data.drop(columns=['Output'],axis=1)\n",
    "y= data['Output'].values"
   ],
   "metadata": {
    "collapsed": false,
    "pycharm": {
     "name": "#%%\n"
    }
   }
  },
  {
   "cell_type": "code",
   "execution_count": 1061,
   "outputs": [
    {
     "name": "stdout",
     "output_type": "stream",
     "text": [
      "(582,)\n",
      "(1358, 32)\n"
     ]
    }
   ],
   "source": [
    "#perfroming a train test split\n",
    "X_train, X_test, y_train, y_test = train_test_split(x, y, test_size=0.3, random_state=1)\n",
    "print(y_test.shape)\n",
    "print(X_train.shape)"
   ],
   "metadata": {
    "collapsed": false,
    "pycharm": {
     "name": "#%%\n"
    }
   }
  },
  {
   "cell_type": "code",
   "execution_count": 1062,
   "outputs": [
    {
     "name": "stdout",
     "output_type": "stream",
     "text": [
      "      PV_Fail  PV_Medium  PV_Normal  PV_Normal   TC_Fail  TC_Low  TC_Low   \\\n",
      "142         0          0          0           1        0       0        1   \n",
      "664         0          1          0           0        0       0        0   \n",
      "824         0          1          0           0        1       0        0   \n",
      "913         0          1          0           0        1       0        0   \n",
      "1289        1          0          0           0        0       0        0   \n",
      "...       ...        ...        ...         ...      ...     ...      ...   \n",
      "1793        1          0          0           0        1       0        0   \n",
      "1096        1          0          0           0        0       0        1   \n",
      "1934        1          0          0           0        1       0        0   \n",
      "235         0          0          0           1        0       0        0   \n",
      "1061        1          0          0           0        0       0        1   \n",
      "\n",
      "      TC_Medium  LAL_Fail  LAL_Medium  ...  V-6_Normal  V-6_Normal   \\\n",
      "142           0         1           0  ...           0            0   \n",
      "664           1         0           0  ...           0            0   \n",
      "824           0         0           0  ...           0            0   \n",
      "913           0         0           1  ...           0            0   \n",
      "1289          1         1           0  ...           0            0   \n",
      "...         ...       ...         ...  ...         ...          ...   \n",
      "1793          0         0           0  ...           0            0   \n",
      "1096          0         1           0  ...           0            0   \n",
      "1934          0         1           0  ...           0            0   \n",
      "235           1         0           1  ...           0            1   \n",
      "1061          0         0           1  ...           0            0   \n",
      "\n",
      "      RV-4_Fail  RV-4_Medium  RV-4_Normal  RV-4_Normal   RV-1,2,3_Fail  \\\n",
      "142           1            0            0             0              0   \n",
      "664           1            0            0             0              0   \n",
      "824           0            1            0             0              1   \n",
      "913           0            1            0             0              0   \n",
      "1289          0            0            0             1              1   \n",
      "...         ...          ...          ...           ...            ...   \n",
      "1793          0            1            0             0              0   \n",
      "1096          1            0            0             0              0   \n",
      "1934          0            0            1             0              0   \n",
      "235           0            0            0             1              0   \n",
      "1061          1            0            0             0              1   \n",
      "\n",
      "      RV-1,2,3_Medium  RV-1,2,3_Normal  RV-1,2,3_Normal   \n",
      "142                 1                0                 0  \n",
      "664                 1                0                 0  \n",
      "824                 0                0                 0  \n",
      "913                 1                0                 0  \n",
      "1289                0                0                 0  \n",
      "...               ...              ...               ...  \n",
      "1793                1                0                 0  \n",
      "1096                1                0                 0  \n",
      "1934                1                0                 0  \n",
      "235                 1                0                 0  \n",
      "1061                0                0                 0  \n",
      "\n",
      "[1358 rows x 32 columns]\n"
     ]
    }
   ],
   "source": [
    "print(X_train)"
   ],
   "metadata": {
    "collapsed": false,
    "pycharm": {
     "name": "#%%\n"
    }
   }
  },
  {
   "cell_type": "code",
   "execution_count": 1063,
   "outputs": [],
   "source": [
    "# #scaling the data\n",
    "# scaler = preprocessing.MinMaxScaler(feature_range=(0,1))\n",
    "# scaled_x_train = np.array(X_train).reshape(len(X_train),45)\n",
    "# scaled_x_train = scaler.fit_transform(scaled_x_train)\n",
    "# scaled_x_test = np.array(X_test).reshape(len(X_test),45)\n",
    "# scaled_x_test = scaler.transform(scaled_x_test)\n",
    "# y_train = np.array(y_train).reshape(-1,1)\n",
    "# y_test = np.array(y_test).reshape(-1,1)\n",
    "\n",
    "# sc = StandardScaler()\n",
    "# X_train = sc.fit_transform(X_train)\n",
    "# X_test = sc.fit_transform(X_test)\n",
    "\n",
    "# scaler = MinMaxScaler()\n",
    "# scaled_x_train = scaler.fit_transform(X_train)\n",
    "# scaled_x_test = scaler.fit_transform(X_test)\n",
    "# scaled_y_train = scaler.fit_transform(np.array(y_train).reshape(-1, 1))\n",
    "# scaled_y_test = scaler.fit_transform(np.array(y_test).reshape(-1, 1))"
   ],
   "metadata": {
    "collapsed": false,
    "pycharm": {
     "name": "#%%\n"
    }
   }
  },
  {
   "cell_type": "code",
   "execution_count": 1064,
   "outputs": [
    {
     "data": {
      "text/plain": "RandomForestClassifier(n_estimators=200)"
     },
     "execution_count": 1064,
     "metadata": {},
     "output_type": "execute_result"
    }
   ],
   "source": [
    "#Random Forest\n",
    "\n",
    "rfr_model = RandomForestClassifier(n_estimators=200)\n",
    "rfr_model.fit(X_train, y_train)\n",
    "#rfr_prediction = rfr_model.predict(scaled_x_train)"
   ],
   "metadata": {
    "collapsed": false,
    "pycharm": {
     "name": "#%%\n"
    }
   }
  },
  {
   "cell_type": "code",
   "execution_count": 1065,
   "outputs": [
    {
     "name": "stderr",
     "output_type": "stream",
     "text": [
      "C:\\Users\\nudou\\PycharmProjects\\pythonProject\\Practice\\venv\\lib\\site-packages\\sklearn\\model_selection\\_split.py:676: UserWarning: The least populated class in y has only 6 members, which is less than n_splits=10.\n",
      "  warnings.warn(\n"
     ]
    },
    {
     "name": "stdout",
     "output_type": "stream",
     "text": [
      "CV:  0.8777668845315905\n",
      "Training set:  0.9992636229749632\n",
      "Test set:  0.8917525773195877\n"
     ]
    }
   ],
   "source": [
    "\n",
    "cv_rfr = cross_val_score(estimator = rfr_model, X = X_train, y = y_train, cv = 10)\n",
    "print(\"CV: \", cv_rfr.mean())\n",
    "\n",
    "y_pred_rfr_train =rfr_model.predict(X_train)\n",
    "accuracy_rfc_train = accuracy_score(y_train, y_pred_rfr_train)\n",
    "print(\"Training set: \", accuracy_rfc_train)\n",
    "\n",
    "y_pred_rfr_test = rfr_model.predict(X_test)\n",
    "accuracy_rfr_test = accuracy_score(y_test, y_pred_rfr_test)\n",
    "print(\"Test set: \", accuracy_rfr_test)"
   ],
   "metadata": {
    "collapsed": false,
    "pycharm": {
     "name": "#%%\n"
    }
   }
  },
  {
   "cell_type": "code",
   "execution_count": 1066,
   "outputs": [
    {
     "name": "stdout",
     "output_type": "stream",
     "text": [
      "Report of Classification;\n",
      "               precision    recall  f1-score   support\n",
      "\n",
      "           0       0.00      0.00      0.00         1\n",
      "           1       0.89      0.93      0.91       292\n",
      "           2       0.90      0.87      0.88       269\n",
      "           3       0.00      0.00      0.00         3\n",
      "           4       1.00      1.00      1.00         1\n",
      "           5       0.86      0.75      0.80        16\n",
      "\n",
      "    accuracy                           0.89       582\n",
      "   macro avg       0.61      0.59      0.60       582\n",
      "weighted avg       0.89      0.89      0.89       582\n",
      "\n"
     ]
    },
    {
     "name": "stderr",
     "output_type": "stream",
     "text": [
      "C:\\Users\\nudou\\PycharmProjects\\pythonProject\\Practice\\venv\\lib\\site-packages\\sklearn\\metrics\\_classification.py:1308: UndefinedMetricWarning: Precision and F-score are ill-defined and being set to 0.0 in labels with no predicted samples. Use `zero_division` parameter to control this behavior.\n",
      "  _warn_prf(average, modifier, msg_start, len(result))\n",
      "C:\\Users\\nudou\\PycharmProjects\\pythonProject\\Practice\\venv\\lib\\site-packages\\sklearn\\metrics\\_classification.py:1308: UndefinedMetricWarning: Precision and F-score are ill-defined and being set to 0.0 in labels with no predicted samples. Use `zero_division` parameter to control this behavior.\n",
      "  _warn_prf(average, modifier, msg_start, len(result))\n",
      "C:\\Users\\nudou\\PycharmProjects\\pythonProject\\Practice\\venv\\lib\\site-packages\\sklearn\\metrics\\_classification.py:1308: UndefinedMetricWarning: Precision and F-score are ill-defined and being set to 0.0 in labels with no predicted samples. Use `zero_division` parameter to control this behavior.\n",
      "  _warn_prf(average, modifier, msg_start, len(result))\n"
     ]
    }
   ],
   "source": [
    "confusion_matrix(y_test,  y_pred_rfr_test)\n",
    "class_report = classification_report(y_test,  y_pred_rfr_test)\n",
    "print('Report of Classification;\\n', class_report)"
   ],
   "metadata": {
    "collapsed": false,
    "pycharm": {
     "name": "#%%\n"
    }
   }
  },
  {
   "cell_type": "code",
   "execution_count": 1067,
   "outputs": [
    {
     "name": "stdout",
     "output_type": "stream",
     "text": [
      "\n",
      "CONFUSION MATRIX\n"
     ]
    },
    {
     "data": {
      "text/plain": "<AxesSubplot:>"
     },
     "execution_count": 1067,
     "metadata": {},
     "output_type": "execute_result"
    },
    {
     "data": {
      "text/plain": "<Figure size 432x288 with 2 Axes>",
      "image/png": "[encoded data removed]"
     },
     "metadata": {
      "needs_background": "light"
     },
     "output_type": "display_data"
    }
   ],
   "source": [
    "con_mat = confusion_matrix(y_test,y_pred_rfr_test)\n",
    "\n",
    "print('\\nCONFUSION MATRIX')\n",
    "plt.figure(figsize= (6,4))\n",
    "sns.heatmap(con_mat, annot = True,fmt='d',cmap=\"YlGnBu\")"
   ],
   "metadata": {
    "collapsed": false,
    "pycharm": {
     "name": "#%%\n"
    }
   }
  },
  {
   "cell_type": "code",
   "execution_count": 1068,
   "outputs": [
    {
     "name": "stderr",
     "output_type": "stream",
     "text": [
      "C:\\Users\\nudou\\PycharmProjects\\pythonProject\\Practice\\venv\\lib\\site-packages\\sklearn\\linear_model\\_logistic.py:814: ConvergenceWarning: lbfgs failed to converge (status=1):\n",
      "STOP: TOTAL NO. of ITERATIONS REACHED LIMIT.\n",
      "\n",
      "Increase the number of iterations (max_iter) or scale the data as shown in:\n",
      "    https://scikit-learn.org/stable/modules/preprocessing.html\n",
      "Please also refer to the documentation for alternative solver options:\n",
      "    https://scikit-learn.org/stable/modules/linear_model.html#logistic-regression\n",
      "  n_iter_i = _check_optimize_result(\n"
     ]
    },
    {
     "data": {
      "text/plain": "LogisticRegression()"
     },
     "execution_count": 1068,
     "metadata": {},
     "output_type": "execute_result"
    }
   ],
   "source": [
    "#Logistic Regression\n",
    "\n",
    "lr= LogisticRegression()\n",
    "lr.fit(X_train, y_train)"
   ],
   "metadata": {
    "collapsed": false,
    "pycharm": {
     "name": "#%%\n"
    }
   }
  },
  {
   "cell_type": "code",
   "execution_count": 1069,
   "outputs": [
    {
     "name": "stderr",
     "output_type": "stream",
     "text": [
      "C:\\Users\\nudou\\PycharmProjects\\pythonProject\\Practice\\venv\\lib\\site-packages\\sklearn\\model_selection\\_split.py:676: UserWarning: The least populated class in y has only 6 members, which is less than n_splits=10.\n",
      "  warnings.warn(\n",
      "C:\\Users\\nudou\\PycharmProjects\\pythonProject\\Practice\\venv\\lib\\site-packages\\sklearn\\linear_model\\_logistic.py:814: ConvergenceWarning: lbfgs failed to converge (status=1):\n",
      "STOP: TOTAL NO. of ITERATIONS REACHED LIMIT.\n",
      "\n",
      "Increase the number of iterations (max_iter) or scale the data as shown in:\n",
      "    https://scikit-learn.org/stable/modules/preprocessing.html\n",
      "Please also refer to the documentation for alternative solver options:\n",
      "    https://scikit-learn.org/stable/modules/linear_model.html#logistic-regression\n",
      "  n_iter_i = _check_optimize_result(\n",
      "C:\\Users\\nudou\\PycharmProjects\\pythonProject\\Practice\\venv\\lib\\site-packages\\sklearn\\linear_model\\_logistic.py:814: ConvergenceWarning: lbfgs failed to converge (status=1):\n",
      "STOP: TOTAL NO. of ITERATIONS REACHED LIMIT.\n",
      "\n",
      "Increase the number of iterations (max_iter) or scale the data as shown in:\n",
      "    https://scikit-learn.org/stable/modules/preprocessing.html\n",
      "Please also refer to the documentation for alternative solver options:\n",
      "    https://scikit-learn.org/stable/modules/linear_model.html#logistic-regression\n",
      "  n_iter_i = _check_optimize_result(\n",
      "C:\\Users\\nudou\\PycharmProjects\\pythonProject\\Practice\\venv\\lib\\site-packages\\sklearn\\linear_model\\_logistic.py:814: ConvergenceWarning: lbfgs failed to converge (status=1):\n",
      "STOP: TOTAL NO. of ITERATIONS REACHED LIMIT.\n",
      "\n",
      "Increase the number of iterations (max_iter) or scale the data as shown in:\n",
      "    https://scikit-learn.org/stable/modules/preprocessing.html\n",
      "Please also refer to the documentation for alternative solver options:\n",
      "    https://scikit-learn.org/stable/modules/linear_model.html#logistic-regression\n",
      "  n_iter_i = _check_optimize_result(\n",
      "C:\\Users\\nudou\\PycharmProjects\\pythonProject\\Practice\\venv\\lib\\site-packages\\sklearn\\linear_model\\_logistic.py:814: ConvergenceWarning: lbfgs failed to converge (status=1):\n",
      "STOP: TOTAL NO. of ITERATIONS REACHED LIMIT.\n",
      "\n",
      "Increase the number of iterations (max_iter) or scale the data as shown in:\n",
      "    https://scikit-learn.org/stable/modules/preprocessing.html\n",
      "Please also refer to the documentation for alternative solver options:\n",
      "    https://scikit-learn.org/stable/modules/linear_model.html#logistic-regression\n",
      "  n_iter_i = _check_optimize_result(\n",
      "C:\\Users\\nudou\\PycharmProjects\\pythonProject\\Practice\\venv\\lib\\site-packages\\sklearn\\linear_model\\_logistic.py:814: ConvergenceWarning: lbfgs failed to converge (status=1):\n",
      "STOP: TOTAL NO. of ITERATIONS REACHED LIMIT.\n",
      "\n",
      "Increase the number of iterations (max_iter) or scale the data as shown in:\n",
      "    https://scikit-learn.org/stable/modules/preprocessing.html\n",
      "Please also refer to the documentation for alternative solver options:\n",
      "    https://scikit-learn.org/stable/modules/linear_model.html#logistic-regression\n",
      "  n_iter_i = _check_optimize_result(\n",
      "C:\\Users\\nudou\\PycharmProjects\\pythonProject\\Practice\\venv\\lib\\site-packages\\sklearn\\linear_model\\_logistic.py:814: ConvergenceWarning: lbfgs failed to converge (status=1):\n",
      "STOP: TOTAL NO. of ITERATIONS REACHED LIMIT.\n",
      "\n",
      "Increase the number of iterations (max_iter) or scale the data as shown in:\n",
      "    https://scikit-learn.org/stable/modules/preprocessing.html\n",
      "Please also refer to the documentation for alternative solver options:\n",
      "    https://scikit-learn.org/stable/modules/linear_model.html#logistic-regression\n",
      "  n_iter_i = _check_optimize_result(\n",
      "C:\\Users\\nudou\\PycharmProjects\\pythonProject\\Practice\\venv\\lib\\site-packages\\sklearn\\linear_model\\_logistic.py:814: ConvergenceWarning: lbfgs failed to converge (status=1):\n",
      "STOP: TOTAL NO. of ITERATIONS REACHED LIMIT.\n",
      "\n",
      "Increase the number of iterations (max_iter) or scale the data as shown in:\n",
      "    https://scikit-learn.org/stable/modules/preprocessing.html\n",
      "Please also refer to the documentation for alternative solver options:\n",
      "    https://scikit-learn.org/stable/modules/linear_model.html#logistic-regression\n",
      "  n_iter_i = _check_optimize_result(\n",
      "C:\\Users\\nudou\\PycharmProjects\\pythonProject\\Practice\\venv\\lib\\site-packages\\sklearn\\linear_model\\_logistic.py:814: ConvergenceWarning: lbfgs failed to converge (status=1):\n",
      "STOP: TOTAL NO. of ITERATIONS REACHED LIMIT.\n",
      "\n",
      "Increase the number of iterations (max_iter) or scale the data as shown in:\n",
      "    https://scikit-learn.org/stable/modules/preprocessing.html\n",
      "Please also refer to the documentation for alternative solver options:\n",
      "    https://scikit-learn.org/stable/modules/linear_model.html#logistic-regression\n",
      "  n_iter_i = _check_optimize_result(\n",
      "C:\\Users\\nudou\\PycharmProjects\\pythonProject\\Practice\\venv\\lib\\site-packages\\sklearn\\linear_model\\_logistic.py:814: ConvergenceWarning: lbfgs failed to converge (status=1):\n",
      "STOP: TOTAL NO. of ITERATIONS REACHED LIMIT.\n",
      "\n",
      "Increase the number of iterations (max_iter) or scale the data as shown in:\n",
      "    https://scikit-learn.org/stable/modules/preprocessing.html\n",
      "Please also refer to the documentation for alternative solver options:\n",
      "    https://scikit-learn.org/stable/modules/linear_model.html#logistic-regression\n",
      "  n_iter_i = _check_optimize_result(\n"
     ]
    },
    {
     "name": "stdout",
     "output_type": "stream",
     "text": [
      "CV: 0.8085185185185185\n",
      "Training set: 0.8232695139911634\n",
      "Test set: 0.8213058419243986\n"
     ]
    },
    {
     "name": "stderr",
     "output_type": "stream",
     "text": [
      "C:\\Users\\nudou\\PycharmProjects\\pythonProject\\Practice\\venv\\lib\\site-packages\\sklearn\\linear_model\\_logistic.py:814: ConvergenceWarning: lbfgs failed to converge (status=1):\n",
      "STOP: TOTAL NO. of ITERATIONS REACHED LIMIT.\n",
      "\n",
      "Increase the number of iterations (max_iter) or scale the data as shown in:\n",
      "    https://scikit-learn.org/stable/modules/preprocessing.html\n",
      "Please also refer to the documentation for alternative solver options:\n",
      "    https://scikit-learn.org/stable/modules/linear_model.html#logistic-regression\n",
      "  n_iter_i = _check_optimize_result(\n"
     ]
    }
   ],
   "source": [
    "#prediction\n",
    "cv_lr = cross_val_score(estimator=lr, X= X_train, y= y_train, cv = 10)\n",
    "print('CV:', cv_lr.mean())\n",
    "\n",
    "y_pred_lr_train = lr.predict(X_train)\n",
    "accuracy_train = accuracy_score(y_train, y_pred_lr_train)\n",
    "print('Training set:', accuracy_train)\n",
    "\n",
    "y_pred_lr_test = lr.predict(X_test)\n",
    "accuracy_test = accuracy_score(y_test,y_pred_lr_test)\n",
    "print('Test set:', accuracy_test)"
   ],
   "metadata": {
    "collapsed": false,
    "pycharm": {
     "name": "#%%\n"
    }
   }
  },
  {
   "cell_type": "code",
   "execution_count": 1070,
   "outputs": [
    {
     "name": "stdout",
     "output_type": "stream",
     "text": [
      "Report of Classification;\n",
      "               precision    recall  f1-score   support\n",
      "\n",
      "           0       0.00      0.00      0.00         1\n",
      "           1       0.81      0.90      0.86       292\n",
      "           2       0.84      0.78      0.81       269\n",
      "           3       0.00      0.00      0.00         3\n",
      "           4       0.00      0.00      0.00         1\n",
      "           5       0.55      0.38      0.44        16\n",
      "\n",
      "    accuracy                           0.82       582\n",
      "   macro avg       0.37      0.34      0.35       582\n",
      "weighted avg       0.81      0.82      0.82       582\n",
      "\n"
     ]
    },
    {
     "name": "stderr",
     "output_type": "stream",
     "text": [
      "C:\\Users\\nudou\\PycharmProjects\\pythonProject\\Practice\\venv\\lib\\site-packages\\sklearn\\metrics\\_classification.py:1308: UndefinedMetricWarning: Precision and F-score are ill-defined and being set to 0.0 in labels with no predicted samples. Use `zero_division` parameter to control this behavior.\n",
      "  _warn_prf(average, modifier, msg_start, len(result))\n",
      "C:\\Users\\nudou\\PycharmProjects\\pythonProject\\Practice\\venv\\lib\\site-packages\\sklearn\\metrics\\_classification.py:1308: UndefinedMetricWarning: Precision and F-score are ill-defined and being set to 0.0 in labels with no predicted samples. Use `zero_division` parameter to control this behavior.\n",
      "  _warn_prf(average, modifier, msg_start, len(result))\n",
      "C:\\Users\\nudou\\PycharmProjects\\pythonProject\\Practice\\venv\\lib\\site-packages\\sklearn\\metrics\\_classification.py:1308: UndefinedMetricWarning: Precision and F-score are ill-defined and being set to 0.0 in labels with no predicted samples. Use `zero_division` parameter to control this behavior.\n",
      "  _warn_prf(average, modifier, msg_start, len(result))\n"
     ]
    }
   ],
   "source": [
    "confusion_matrix(y_test,  y_pred_lr_test)\n",
    "class_report = classification_report(y_test,  y_pred_lr_test)\n",
    "print('Report of Classification;\\n', class_report)"
   ],
   "metadata": {
    "collapsed": false,
    "pycharm": {
     "name": "#%%\n"
    }
   }
  },
  {
   "cell_type": "code",
   "execution_count": 1071,
   "outputs": [
    {
     "data": {
      "text/plain": "DecisionTreeClassifier()"
     },
     "execution_count": 1071,
     "metadata": {},
     "output_type": "execute_result"
    }
   ],
   "source": [
    "#decision tree\n",
    "\n",
    "dt_model = DecisionTreeClassifier()\n",
    "dt_model.fit(X_train, y_train)"
   ],
   "metadata": {
    "collapsed": false,
    "pycharm": {
     "name": "#%%\n"
    }
   }
  },
  {
   "cell_type": "code",
   "execution_count": 1072,
   "outputs": [
    {
     "name": "stderr",
     "output_type": "stream",
     "text": [
      "C:\\Users\\nudou\\PycharmProjects\\pythonProject\\Practice\\venv\\lib\\site-packages\\sklearn\\model_selection\\_split.py:676: UserWarning: The least populated class in y has only 6 members, which is less than n_splits=10.\n",
      "  warnings.warn(\n"
     ]
    },
    {
     "name": "stdout",
     "output_type": "stream",
     "text": [
      "CV: 0.8571132897603485\n",
      "Training set: 0.9992636229749632\n",
      "Test set: 0.8883161512027491\n"
     ]
    }
   ],
   "source": [
    "#prediction\n",
    "cv_dt = cross_val_score(estimator=dt_model, X= X_train, y= y_train, cv = 10)\n",
    "print('CV:', cv_dt.mean())\n",
    "\n",
    "y_pred_dt_train = dt_model.predict(X_train)\n",
    "accuracy_train = accuracy_score(y_train, y_pred_dt_train)\n",
    "print('Training set:', accuracy_train)\n",
    "\n",
    "y_pred_dt_test = dt_model.predict(X_test)\n",
    "accuracy_test = accuracy_score(y_test,y_pred_dt_test)\n",
    "print('Test set:', accuracy_test)"
   ],
   "metadata": {
    "collapsed": false,
    "pycharm": {
     "name": "#%%\n"
    }
   }
  },
  {
   "cell_type": "code",
   "execution_count": 1073,
   "outputs": [
    {
     "name": "stderr",
     "output_type": "stream",
     "text": [
      "C:\\Users\\nudou\\PycharmProjects\\pythonProject\\Practice\\venv\\lib\\site-packages\\sklearn\\metrics\\_classification.py:1308: UndefinedMetricWarning: Precision and F-score are ill-defined and being set to 0.0 in labels with no predicted samples. Use `zero_division` parameter to control this behavior.\n",
      "  _warn_prf(average, modifier, msg_start, len(result))\n"
     ]
    },
    {
     "name": "stdout",
     "output_type": "stream",
     "text": [
      "Report of Classification;\n",
      "               precision    recall  f1-score   support\n",
      "\n",
      "           0       0.00      0.00      0.00         1\n",
      "           1       0.88      0.92      0.90       292\n",
      "           2       0.90      0.87      0.89       269\n",
      "           3       0.00      0.00      0.00         3\n",
      "           4       0.50      1.00      0.67         1\n",
      "           5       0.81      0.81      0.81        16\n",
      "\n",
      "    accuracy                           0.89       582\n",
      "   macro avg       0.52      0.60      0.54       582\n",
      "weighted avg       0.88      0.89      0.89       582\n",
      "\n"
     ]
    },
    {
     "name": "stderr",
     "output_type": "stream",
     "text": [
      "C:\\Users\\nudou\\PycharmProjects\\pythonProject\\Practice\\venv\\lib\\site-packages\\sklearn\\metrics\\_classification.py:1308: UndefinedMetricWarning: Precision and F-score are ill-defined and being set to 0.0 in labels with no predicted samples. Use `zero_division` parameter to control this behavior.\n",
      "  _warn_prf(average, modifier, msg_start, len(result))\n",
      "C:\\Users\\nudou\\PycharmProjects\\pythonProject\\Practice\\venv\\lib\\site-packages\\sklearn\\metrics\\_classification.py:1308: UndefinedMetricWarning: Precision and F-score are ill-defined and being set to 0.0 in labels with no predicted samples. Use `zero_division` parameter to control this behavior.\n",
      "  _warn_prf(average, modifier, msg_start, len(result))\n"
     ]
    }
   ],
   "source": [
    "confusion_matrix(y_test,  y_pred_dt_test)\n",
    "class_report = classification_report(y_test,  y_pred_dt_test)\n",
    "print('Report of Classification;\\n', class_report)"
   ],
   "metadata": {
    "collapsed": false,
    "pycharm": {
     "name": "#%%\n"
    }
   }
  },
  {
   "cell_type": "code",
   "execution_count": 1074,
   "outputs": [],
   "source": [
    "#Naivebayes"
   ],
   "metadata": {
    "collapsed": false,
    "pycharm": {
     "name": "#%%\n"
    }
   }
  },
  {
   "cell_type": "code",
   "execution_count": 1075,
   "outputs": [
    {
     "data": {
      "text/plain": "GaussianNB()"
     },
     "execution_count": 1075,
     "metadata": {},
     "output_type": "execute_result"
    }
   ],
   "source": [
    "nb_model = GaussianNB()\n",
    "nb_model.fit(X_train, y_train)"
   ],
   "metadata": {
    "collapsed": false,
    "pycharm": {
     "name": "#%%\n"
    }
   }
  },
  {
   "cell_type": "code",
   "execution_count": 1076,
   "outputs": [
    {
     "name": "stderr",
     "output_type": "stream",
     "text": [
      "C:\\Users\\nudou\\PycharmProjects\\pythonProject\\Practice\\venv\\lib\\site-packages\\sklearn\\model_selection\\_split.py:676: UserWarning: The least populated class in y has only 6 members, which is less than n_splits=10.\n",
      "  warnings.warn(\n"
     ]
    },
    {
     "name": "stdout",
     "output_type": "stream",
     "text": [
      "CV: 0.6428649237472767\n",
      "Training set: 0.6516936671575847\n",
      "Test set: 0.6443298969072165\n"
     ]
    }
   ],
   "source": [
    "cv_NB = cross_val_score(estimator= nb_model, X= X_train, y= y_train, cv = 10)\n",
    "print('CV:', cv_NB.mean())\n",
    "\n",
    "y_pred_nb_train = nb_model.predict(X_train)\n",
    "accuracy_train = accuracy_score(y_train, y_pred_nb_train)\n",
    "print('Training set:', accuracy_train)\n",
    "\n",
    "y_pred_nb_test = nb_model.predict(X_test)\n",
    "accuracy_test = accuracy_score(y_test,y_pred_nb_test)\n",
    "print('Test set:', accuracy_test)"
   ],
   "metadata": {
    "collapsed": false,
    "pycharm": {
     "name": "#%%\n"
    }
   }
  },
  {
   "cell_type": "code",
   "execution_count": 1077,
   "outputs": [
    {
     "name": "stdout",
     "output_type": "stream",
     "text": [
      "Report of Classification;\n",
      "               precision    recall  f1-score   support\n",
      "\n",
      "           0       0.00      0.00      0.00         1\n",
      "           1       0.82      0.74      0.78       292\n",
      "           2       0.73      0.53      0.61       269\n",
      "           3       0.00      0.00      0.00         3\n",
      "           4       0.50      1.00      0.67         1\n",
      "           5       0.12      0.94      0.22        16\n",
      "\n",
      "    accuracy                           0.64       582\n",
      "   macro avg       0.36      0.53      0.38       582\n",
      "weighted avg       0.75      0.64      0.68       582\n",
      "\n"
     ]
    },
    {
     "name": "stderr",
     "output_type": "stream",
     "text": [
      "C:\\Users\\nudou\\PycharmProjects\\pythonProject\\Practice\\venv\\lib\\site-packages\\sklearn\\metrics\\_classification.py:1308: UndefinedMetricWarning: Precision and F-score are ill-defined and being set to 0.0 in labels with no predicted samples. Use `zero_division` parameter to control this behavior.\n",
      "  _warn_prf(average, modifier, msg_start, len(result))\n",
      "C:\\Users\\nudou\\PycharmProjects\\pythonProject\\Practice\\venv\\lib\\site-packages\\sklearn\\metrics\\_classification.py:1308: UndefinedMetricWarning: Precision and F-score are ill-defined and being set to 0.0 in labels with no predicted samples. Use `zero_division` parameter to control this behavior.\n",
      "  _warn_prf(average, modifier, msg_start, len(result))\n",
      "C:\\Users\\nudou\\PycharmProjects\\pythonProject\\Practice\\venv\\lib\\site-packages\\sklearn\\metrics\\_classification.py:1308: UndefinedMetricWarning: Precision and F-score are ill-defined and being set to 0.0 in labels with no predicted samples. Use `zero_division` parameter to control this behavior.\n",
      "  _warn_prf(average, modifier, msg_start, len(result))\n"
     ]
    }
   ],
   "source": [
    "confusion_matrix(y_test,  y_pred_nb_test)\n",
    "class_report = classification_report(y_test,  y_pred_nb_test)\n",
    "print('Report of Classification;\\n', class_report)"
   ],
   "metadata": {
    "collapsed": false,
    "pycharm": {
     "name": "#%%\n"
    }
   }
  },
  {
   "cell_type": "code",
   "execution_count": 1078,
   "outputs": [
    {
     "name": "stdout",
     "output_type": "stream",
     "text": [
      "\n",
      "CONFUSION MATRIX\n"
     ]
    },
    {
     "data": {
      "text/plain": "<AxesSubplot:>"
     },
     "execution_count": 1078,
     "metadata": {},
     "output_type": "execute_result"
    },
    {
     "data": {
      "text/plain": "<Figure size 432x288 with 2 Axes>",
      "image/png": "[encoded data removed]"
     },
     "metadata": {
      "needs_background": "light"
     },
     "output_type": "display_data"
    }
   ],
   "source": [
    "con_mat = confusion_matrix(y_test,y_pred_nb_test)\n",
    "\n",
    "print('\\nCONFUSION MATRIX')\n",
    "plt.figure(figsize= (6,4))\n",
    "sns.heatmap(con_mat, annot = True,fmt='d',cmap=\"YlGnBu\")"
   ],
   "metadata": {
    "collapsed": false,
    "pycharm": {
     "name": "#%%\n"
    }
   }
  }
 ],
 "metadata": {
  "kernelspec": {
   "display_name": "Python 3",
   "language": "python",
   "name": "python3"
  },
  "language_info": {
   "codemirror_mode": {
    "name": "ipython",
    "version": 2
   },
   "file_extension": ".py",
   "mimetype": "text/x-python",
   "name": "python",
   "nbconvert_exporter": "python",
   "pygments_lexer": "ipython2",
   "version": "2.7.6"
  }
 },
 "nbformat": 4,
 "nbformat_minor": 0
}